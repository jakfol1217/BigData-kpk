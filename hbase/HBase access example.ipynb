{
 "cells": [
  {
   "cell_type": "code",
   "execution_count": 105,
   "id": "7d8ae14b",
   "metadata": {},
   "outputs": [
    {
     "name": "stdout",
     "output_type": "stream",
     "text": [
      "Defaulting to user installation because normal site-packages is not writeable\n",
      "Requirement already satisfied: hbase_rest_py in ./.local/lib/python3.7/site-packages (1.0.0)\n",
      "Requirement already satisfied: requests-toolbelt in ./.local/lib/python3.7/site-packages (from hbase_rest_py) (0.10.1)\n",
      "Requirement already satisfied: requests in /usr/lib/python3/dist-packages (from hbase_rest_py) (2.9.1)\n",
      "Note: you may need to restart the kernel to use updated packages.\n"
     ]
    }
   ],
   "source": [
    "%pip install hbase_rest_py"
   ]
  },
  {
   "cell_type": "code",
   "execution_count": 100,
   "id": "9e7c03a3",
   "metadata": {},
   "outputs": [],
   "source": [
    "import hbase"
   ]
  },
  {
   "cell_type": "code",
   "execution_count": 101,
   "id": "d57a5547",
   "metadata": {},
   "outputs": [],
   "source": [
    "from hbase.rest_client import HBaseRESTClient\n",
    "from hbase.admin import HBaseAdmin\n",
    "client = HBaseRESTClient(['http://node1:8000'])\n",
    "admin = HBaseAdmin(client)"
   ]
  },
  {
   "cell_type": "code",
   "execution_count": 102,
   "id": "b3913aa6",
   "metadata": {},
   "outputs": [],
   "source": [
    "def fetch_by_date_hbase(table, date_to_process):\n",
    "    from hbase.scan_filter_helper import build_prefix_filter\n",
    "    from hbase.scan import Scan\n",
    "\n",
    "    date_filter = build_prefix_filter(date_to_process)\n",
    "\n",
    "    scan = Scan(client)\n",
    "    result = scan.scan(table, date_filter)\n",
    "    \n",
    "    data = [\n",
    "        {\n",
    "            (cell[\"column\"]).decode().split(\":\")[1] : (cell[\"$\"]).decode()\n",
    "            for cell in row[\"cell\"]\n",
    "        }\n",
    "        for row in result[1][\"row\"]\n",
    "    ]\n",
    "    \n",
    "    scan.delete_scanner()\n",
    "    \n",
    "    return data"
   ]
  },
  {
   "cell_type": "code",
   "execution_count": 103,
   "id": "637c1174",
   "metadata": {},
   "outputs": [
    {
     "data": {
      "text/plain": [
       "[{'Brigade': '1',\n",
       "  'Date': '20221231',\n",
       "  'Lines': ' ',\n",
       "  'VehicleNumber': '9543',\n",
       "  'AnalysisDate': '2023-01-08T13:59:57.220175',\n",
       "  'BusDataSource': '/user/kpk/speeds/20221231.avro',\n",
       "  'AvgSpeed_mps': '3.3807907042450798',\n",
       "  'TotalDist_km': '1.0808255407932414',\n",
       "  'TotalTime_h': '0.09166666666666666'},\n",
       " {'Brigade': '51',\n",
       "  'Date': '20221231',\n",
       "  'Lines': '102',\n",
       "  'VehicleNumber': '7220',\n",
       "  'AnalysisDate': '2023-01-08T13:59:57.216055',\n",
       "  'BusDataSource': '/user/kpk/speeds/20221231.avro',\n",
       "  'AvgSpeed_mps': '1.4352837722561818',\n",
       "  'TotalDist_km': '0.37440960643673804',\n",
       "  'TotalTime_h': '5.036944444444444'},\n",
       " {'Brigade': '51',\n",
       "  'Date': '20221231',\n",
       "  'Lines': '102',\n",
       "  'VehicleNumber': '7222',\n",
       "  'AnalysisDate': '2023-01-08T13:59:57.218803',\n",
       "  'BusDataSource': '/user/kpk/speeds/20221231.avro',\n",
       "  'AvgSpeed_mps': '0.024289016239940675',\n",
       "  'TotalDist_km': '0.003949580307537217',\n",
       "  'TotalTime_h': '0.052222222222222225'}]"
      ]
     },
     "execution_count": 103,
     "metadata": {},
     "output_type": "execute_result"
    }
   ],
   "source": [
    "fetch_by_date_hbase(\"veh_stats\", \"20221231\")[:3]"
   ]
  },
  {
   "cell_type": "code",
   "execution_count": 106,
   "id": "1b285fc1",
   "metadata": {},
   "outputs": [
    {
     "ename": "TypeError",
     "evalue": "write() argument must be str, not list",
     "output_type": "error",
     "traceback": [
      "\u001b[0;31m---------------------------------------------------------------------------\u001b[0m",
      "\u001b[0;31mTypeError\u001b[0m                                 Traceback (most recent call last)",
      "\u001b[0;32m/tmp/ipykernel_6656/1970184723.py\u001b[0m in \u001b[0;36m<module>\u001b[0;34m\u001b[0m\n\u001b[1;32m      1\u001b[0m \u001b[0;32mfor\u001b[0m \u001b[0mtable\u001b[0m \u001b[0;32min\u001b[0m \u001b[0;34m[\u001b[0m\u001b[0;34m\"veh_stats\"\u001b[0m\u001b[0;34m,\u001b[0m \u001b[0;34m\"line_stats\"\u001b[0m\u001b[0;34m,\u001b[0m \u001b[0;34m\"bus_weather_stats\"\u001b[0m\u001b[0;34m,\u001b[0m \u001b[0;34m\"bus_weather_line_stats\"\u001b[0m\u001b[0;34m]\u001b[0m\u001b[0;34m:\u001b[0m\u001b[0;34m\u001b[0m\u001b[0;34m\u001b[0m\u001b[0m\n\u001b[1;32m      2\u001b[0m     \u001b[0;32mwith\u001b[0m \u001b[0mopen\u001b[0m\u001b[0;34m(\u001b[0m\u001b[0;34mf\"hbase_table_{table}.json\"\u001b[0m\u001b[0;34m,\u001b[0m \u001b[0;34m\"w\"\u001b[0m\u001b[0;34m)\u001b[0m \u001b[0;32mas\u001b[0m \u001b[0mfile\u001b[0m\u001b[0;34m:\u001b[0m\u001b[0;34m\u001b[0m\u001b[0;34m\u001b[0m\u001b[0m\n\u001b[0;32m----> 3\u001b[0;31m         \u001b[0mfile\u001b[0m\u001b[0;34m.\u001b[0m\u001b[0mwrite\u001b[0m\u001b[0;34m(\u001b[0m\u001b[0mfetch_by_date_hbase\u001b[0m\u001b[0;34m(\u001b[0m\u001b[0mtable\u001b[0m\u001b[0;34m,\u001b[0m \u001b[0;34m\"20221231\"\u001b[0m\u001b[0;34m)\u001b[0m\u001b[0;34m)\u001b[0m\u001b[0;34m\u001b[0m\u001b[0;34m\u001b[0m\u001b[0m\n\u001b[0m",
      "\u001b[0;31mTypeError\u001b[0m: write() argument must be str, not list"
     ]
    }
   ],
   "source": [
    "for table in [\"veh_stats\", \"line_stats\", \"bus_weather_stats\", \"bus_weather_line_stats\"]:\n",
    "    with open(f\"hbase_table_{table}.json\", \"w\") as file:\n",
    "        file.write(fetch_by_date_hbase(table, \"20221231\"))"
   ]
  },
  {
   "cell_type": "code",
   "execution_count": null,
   "id": "740bff2b",
   "metadata": {},
   "outputs": [],
   "source": []
  }
 ],
 "metadata": {
  "kernelspec": {
   "display_name": "Python 3 (ipykernel)",
   "language": "python",
   "name": "python3"
  },
  "language_info": {
   "codemirror_mode": {
    "name": "ipython",
    "version": 3
   },
   "file_extension": ".py",
   "mimetype": "text/x-python",
   "name": "python",
   "nbconvert_exporter": "python",
   "pygments_lexer": "ipython3",
   "version": "3.7.10"
  }
 },
 "nbformat": 4,
 "nbformat_minor": 5
}
